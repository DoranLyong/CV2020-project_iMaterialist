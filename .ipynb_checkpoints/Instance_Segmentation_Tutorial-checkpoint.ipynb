{
 "cells": [
  {
   "cell_type": "code",
   "execution_count": null,
   "metadata": {},
   "outputs": [],
   "source": [
    "import os"
   ]
  },
  {
   "cell_type": "code",
   "execution_count": null,
   "metadata": {},
   "outputs": [],
   "source": [
    "from tqdm import tqdm, tnrange\n",
    "import shutil\n",
    "import csv"
   ]
  },
  {
   "cell_type": "markdown",
   "metadata": {},
   "source": [
    "# Data Loading "
   ]
  },
  {
   "cell_type": "code",
   "execution_count": null,
   "metadata": {},
   "outputs": [],
   "source": [
    "# _Start: create a directory for dataset \n",
    "data_root = \"../imaterialist-fashion-2020-fgvc7\"\n",
    "os.makedirs(data_root, exist_ok = True)\n",
    "# _End: create a directory for dataset "
   ]
  },
  {
   "cell_type": "code",
   "execution_count": null,
   "metadata": {},
   "outputs": [],
   "source": [
    "train_json_path = os.path.join(data_root, 'train2.json')\n",
    "validation_json_path = os.path.join(data_root, 'validation2.json')\n",
    "\n",
    "# Get train.json in coco format\n",
    "\n",
    "#generate_COCO_formatted_json(boxes=backpack_boxes, \n",
    "#                             mask_dir=backpack_mask_dir, \n",
    "#                             image_dir=backpack_image_dir, \n",
    "#                             image_list=train_images, \n",
    "#                             json_filepath=train_json_path)\n",
    "\n",
    "# Get validation.json in coco format\n",
    "\n",
    "#generate_COCO_formatted_json(boxes=backpack_boxes, \n",
    "#                             mask_dir=backpack_mask_dir, \n",
    "#                             image_dir=backpack_image_dir, \n",
    "#                             image_list=val_images, \n",
    "#                             json_filepath=validation_json_path)"
   ]
  },
  {
   "cell_type": "code",
   "execution_count": null,
   "metadata": {},
   "outputs": [],
   "source": [
    "train_json_path"
   ]
  },
  {
   "cell_type": "markdown",
   "metadata": {},
   "source": [
    "# Train using Detectron2"
   ]
  },
  {
   "cell_type": "code",
   "execution_count": null,
   "metadata": {},
   "outputs": [],
   "source": [
    "import detectron2\n",
    "from detectron2.utils.logger import setup_logger\n",
    "setup_logger()"
   ]
  },
  {
   "cell_type": "code",
   "execution_count": null,
   "metadata": {},
   "outputs": [],
   "source": [
    "# import some common detectron2 utilities\n",
    "\n",
    "# model_zoo has a lots of pre-trained model\n",
    "from detectron2 import model_zoo\n",
    "\n",
    "# DefaultTrainer is a class for training instance segmentation model and inference\n",
    "from detectron2.engine import DefaultTrainer, DefaultPredictor\n",
    "\n",
    "# detectron2 has its configuration format\n",
    "from detectron2.config import get_cfg\n",
    "\n",
    "# detectron2 has implemented Visualizer of object detection\n",
    "from detectron2.utils.visualizer import Visualizer, ColorMode\n",
    "\n",
    "# from DatasetCatalog, detectron2 gets dataset and from MetadatCatalog it gets metadata of the dataset\n",
    "from detectron2.data import DatasetCatalog, MetadataCatalog\n",
    "\n",
    "# Registers COCO format datasets\n",
    "from detectron2.data.datasets import register_coco_instances\n",
    "\n",
    "# COCOEvaluator based on COCO evaluation metric, inference_on_dataset is used for evaluation for a given metric\n",
    "from detectron2.evaluation import COCOEvaluator, inference_on_dataset\n",
    "\n",
    "# build_detection_test_loader, used to create test loader for evaluation\n",
    "from detectron2.data import build_detection_test_loader"
   ]
  },
  {
   "cell_type": "code",
   "execution_count": null,
   "metadata": {},
   "outputs": [],
   "source": [
    "# import some common libraries\n",
    "import numpy as np\n",
    "import cv2\n",
    "import random\n",
    "import os\n",
    "import json\n",
    "import matplotlib.pyplot as plt"
   ]
  },
  {
   "cell_type": "markdown",
   "metadata": {},
   "source": [
    "### Register Dataset \n",
    "* As the dataset is already in COCO format, we can use the following method \n",
    "    > ```register_coco_instances(name, metadata, json_file, image_root)```\n",
    "\n",
    "* This method internally class <b>load_coco_json</b> method, registers dataset and also adds metadata."
   ]
  },
  {
   "cell_type": "code",
   "execution_count": null,
   "metadata": {},
   "outputs": [],
   "source": [
    "backpack_image_dir = os.path.join(data_root, 'train2')\n",
    "train_data_name = 'backpack_train'\n",
    "val_data_name = 'backpack_val'\n",
    "\n",
    "register_coco_instances(train_data_name, {}, train_json_path, backpack_image_dir)\n",
    "register_coco_instances(val_data_name, {}, validation_json_path, backpack_image_dir)"
   ]
  },
  {
   "cell_type": "code",
   "execution_count": null,
   "metadata": {},
   "outputs": [],
   "source": []
  },
  {
   "cell_type": "code",
   "execution_count": null,
   "metadata": {},
   "outputs": [],
   "source": [
    "backpack_train_metadata = MetadataCatalog.get(train_data_name)\n",
    "\n",
    "dataset_dicts = DatasetCatalog.get(name=train_data_name)\n",
    "\n",
    "for d in random.sample(dataset_dicts, 3):\n",
    "    img = cv2.imread(d[\"file_name\"])\n",
    "    visualizer = Visualizer(img[:, :, ::-1], metadata=backpack_train_metadata, scale=0.5)\n",
    "    vis = visualizer.draw_dataset_dict(d)\n",
    "    plt.figure(figsize = (12, 12))\n",
    "    plt.imshow(vis.get_image())\n",
    "    plt.show()"
   ]
  },
  {
   "cell_type": "markdown",
   "metadata": {},
   "source": [
    "## Set Config and Import model files \n",
    "Get default configuration of detectron2 and update parameters according to our requirements.\n",
    "\n",
    "Get more details of the configuration <a  href=\"https://detectron2.readthedocs.io/modules/config.html#\">here</a>."
   ]
  },
  {
   "cell_type": "code",
   "execution_count": null,
   "metadata": {},
   "outputs": [],
   "source": []
  },
  {
   "cell_type": "code",
   "execution_count": null,
   "metadata": {},
   "outputs": [],
   "source": [
    "#Initialize with default configuration\n",
    "cfg = get_cfg()\n",
    "\n",
    "# update configuration with MaskRCNN configuration\n",
    "cfg.merge_from_file(model_zoo.get_config_file(\"COCO-InstanceSegmentation/mask_rcnn_R_50_FPN_3x.yaml\"))\n",
    "\n",
    "# Let's replace the detectron2 default train dataset with our train dataset.\n",
    "cfg.DATASETS.TRAIN = (train_data_name,)\n",
    "\n",
    "# No metric implemented for the test dataset, we will have to update cfg.DATASET.TEST with empty tuple\n",
    "cfg.DATASETS.TEST = (val_data_name,)\n",
    "\n",
    "# data loader configuration\n",
    "cfg.DATALOADER.NUM_WORKERS = 2\n",
    "\n",
    "# Update model URL in detectron2 config file\n",
    "# Let training initialize from model zoo\n",
    "cfg.MODEL.WEIGHTS = model_zoo.get_checkpoint_url(\"COCO-InstanceSegmentation/mask_rcnn_R_50_FPN_3x.yaml\")  \n",
    "\n",
    "# batch size\n",
    "cfg.SOLVER.IMS_PER_BATCH = 2\n",
    "\n",
    "# choose a good learning rate\n",
    "cfg.SOLVER.BASE_LR = 0.0005\n",
    "\n",
    "# We need to specify the number of iteration for training in detectron2, not the number of epochs.\n",
    "cfg.SOLVER.MAX_ITER = 40000\n",
    "cfg.MODEL.ROI_HEADS.BATCH_SIZE_PER_IMAGE = 128\n",
    "\n",
    "# number of output class\n",
    "# we have only one class that is Backpack\n",
    "cfg.MODEL.ROI_HEADS.NUM_CLASSES = 351"
   ]
  },
  {
   "cell_type": "markdown",
   "metadata": {},
   "source": [
    "## Training "
   ]
  },
  {
   "cell_type": "code",
   "execution_count": null,
   "metadata": {},
   "outputs": [],
   "source": [
    "# update create ouptput directory \n",
    "os.makedirs(cfg.OUTPUT_DIR, exist_ok=True)"
   ]
  },
  {
   "cell_type": "code",
   "execution_count": null,
   "metadata": {},
   "outputs": [],
   "source": [
    "# training\n",
    "\n",
    "# Create a trainer instance with the configuration.\n",
    "trainer = DefaultTrainer(cfg) \n",
    "\n",
    "# if resume=False, because we don't have trained model yet. It will download model from model url and load it\n",
    "trainer.resume_or_load(resume=False)\n",
    "\n",
    "# start training\n",
    "trainer.train()"
   ]
  },
  {
   "cell_type": "code",
   "execution_count": null,
   "metadata": {},
   "outputs": [],
   "source": []
  },
  {
   "cell_type": "markdown",
   "metadata": {},
   "source": [
    "## Inference using the trained model "
   ]
  },
  {
   "cell_type": "code",
   "execution_count": null,
   "metadata": {},
   "outputs": [],
   "source": [
    "# inference on our fine-tuned model\n",
    "\n",
    "# By default detectron2 save the model with name model_final.pth\n",
    "# update the model path in configuration that will be used to load the model\n",
    "cfg.MODEL.WEIGHTS = os.path.join(cfg.OUTPUT_DIR, \"model_final.pth\")\n",
    "\n",
    "# set the testing threshold for this model\n",
    "cfg.MODEL.ROI_HEADS.SCORE_THRESH_TEST = 0.9\n",
    "\n",
    "\n",
    "cfg.DATASETS.TEST = (val_data_name,)\n",
    "\n",
    "backpack_test_metadata = MetadataCatalog.get(val_data_name)\n",
    "\n",
    "# create a predictor instance with the configuration (it has our fine-tuned model)\n",
    "# this predictor does prdiction on a single image\n",
    "predictor = DefaultPredictor(cfg)"
   ]
  },
  {
   "cell_type": "code",
   "execution_count": null,
   "metadata": {},
   "outputs": [],
   "source": [
    "# let's have a look on prediction\n",
    "test_dataset_dicts = DatasetCatalog.get(val_data_name)\n",
    "\n",
    "for d in random.sample(test_dataset_dicts, 3):\n",
    "    print(d[\"file_name\"])\n",
    "    img = cv2.imread(d[\"file_name\"])\n",
    "    visualizer = Visualizer(img[:, :, ::-1], metadata=backpack_test_metadata, scale=0.5)\n",
    "    vis = visualizer.draw_dataset_dict(d)\n",
    "    plt.figure(figsize = (12, 12))\n",
    "    plt.imshow(vis.get_image())\n",
    "    plt.show()"
   ]
  },
  {
   "cell_type": "markdown",
   "metadata": {},
   "source": [
    "## Inference on Video"
   ]
  },
  {
   "cell_type": "code",
   "execution_count": null,
   "metadata": {},
   "outputs": [],
   "source": [
    "def inference_on_video(video_path, out_video_path):\n",
    "    cap = cv2.VideoCapture(video_path)\n",
    "    cnt = 0\n",
    "\n",
    "    output_frames = []\n",
    "\n",
    "    while True:\n",
    "        ret, im = cap.read()\n",
    "\n",
    "        if not ret:\n",
    "            break\n",
    "\n",
    "        if cnt%5 == 0:\n",
    "            outputs = predictor(im)\n",
    "            v = Visualizer(im[:, :, ::-1],\n",
    "                           metadata=backpack_test_metadata, \n",
    "                           scale=0.8, \n",
    "#                          instance_mode=ColorMode.IMAGE_BW\n",
    "                          )\n",
    "            print(outputs)\n",
    "            v = v.draw_instance_predictions(outputs[\"instances\"].to(\"cpu\"))\n",
    "            output_frames.append(v.get_image()[:, :, ::-1])\n",
    "\n",
    "        cnt = cnt + 1\n",
    "\n",
    "    height, width, _ = output_frames[0].shape\n",
    "    size = (width,height)\n",
    "    out = cv2.VideoWriter(out_video_path, cv2.VideoWriter_fourcc(*'mp4v'), 10, size)\n",
    "\n",
    "    for i in range(len(output_frames)):\n",
    "        out.write(output_frames[i])\n",
    "\n",
    "    out.release()"
   ]
  },
  {
   "cell_type": "code",
   "execution_count": null,
   "metadata": {},
   "outputs": [],
   "source": [
    "#Output video is stored as out.mp4 with backpack segmentations\n",
    "video_path = os.path.join(data_root, \"bag_shopping.mp4\")\n",
    "output_path = os.path.join(data_root, \"bag_shopping_output.mp4\")\n",
    "\n",
    "inference_on_video(video_path, output_path)"
   ]
  },
  {
   "cell_type": "code",
   "execution_count": null,
   "metadata": {},
   "outputs": [],
   "source": []
  }
 ],
 "metadata": {
  "kernelspec": {
   "display_name": "Python [conda env:pytorch_env]",
   "language": "python",
   "name": "conda-env-pytorch_env-py"
  },
  "language_info": {
   "codemirror_mode": {
    "name": "ipython",
    "version": 3
   },
   "file_extension": ".py",
   "mimetype": "text/x-python",
   "name": "python",
   "nbconvert_exporter": "python",
   "pygments_lexer": "ipython3",
   "version": "3.7.7"
  }
 },
 "nbformat": 4,
 "nbformat_minor": 4
}
